{
 "cells": [
  {
   "cell_type": "code",
   "execution_count": 1,
   "metadata": {},
   "outputs": [],
   "source": [
    "import re"
   ]
  },
  {
   "cell_type": "markdown",
   "metadata": {},
   "source": [
    "#  正则表达式表示"
   ]
  },
  {
   "cell_type": "markdown",
   "metadata": {},
   "source": [
    "## 字符表示"
   ]
  },
  {
   "cell_type": "raw",
   "metadata": {},
   "source": [
    ".         表示任何单个字符\n",
    "[]         字符集，[abc]表示a，b，c；[a-z]表示a到z的单个字符\n",
    "[^]        非字符集，[^abc]表示非a且非b且非c的单个字符\n",
    "()        一组字符  (abc)表示abc，不能分开，里面只能用|来表示或\n",
    "|         或者  ，abc|def表示abc或者def \n",
    "^         表示字符串开头，^abc 表示有abc并且在开头\n",
    "$         表示字符串结尾，abc$，表示有abc且在最后\n",
    "\\d         表示数字，等价于[0-9]\n",
    "\\w        表示单词字符，等价于[A-Za-z0-9_]，注意包括_"
   ]
  },
  {
   "cell_type": "markdown",
   "metadata": {},
   "source": [
    "## 数量表示"
   ]
  },
  {
   "cell_type": "raw",
   "metadata": {},
   "source": [
    "*          表示前一个字符0次到无穷多次\n",
    "+          表示前一个字符1次到无穷多次\n",
    "？         表示前一个字符0次或1次\n",
    "{m}         表示前一个字符m次\n",
    "{m,n}       表示前一个字符m到n次（包括n次）\n"
   ]
  },
  {
   "cell_type": "markdown",
   "metadata": {},
   "source": [
    "## 常见表示"
   ]
  },
  {
   "cell_type": "raw",
   "metadata": {},
   "source": [
    "[\\u4e00-\\u9fa5]         匹配中文字符\n",
    "[1-9]\\d{5}             国内邮编\n",
    "\\d{3}-\\d{8}|\\d{4}-\\d{7}    国内电话号码"
   ]
  },
  {
   "cell_type": "markdown",
   "metadata": {},
   "source": [
    "# 常用功能函数"
   ]
  },
  {
   "cell_type": "raw",
   "metadata": {},
   "source": [
    "re.search(pattern,string,flags=0)           搜索正则表达式第一个匹配位置，返回个match\n",
    "re.match(pattern,string,flags=0)            从字符串开始位置起，匹配正则表达式，返回个match对象\n",
    "re.findall(pattern,string,flags=0)          搜索素有符合正则表达式的字符串，返回个列表\n",
    "re.split(pattern,string,maxsplit=0,,flags=0)   将字符串符合的正则表达式删掉，并分割，其中maxsplit是删除数\n",
    "re.finditer(pattern,string,flags=0)         搜索字符串，形成个符合正则表达式的match类迭代对象\n",
    "re.sub(pattern,repl,string,count=0,flags=0)    替换正则表达式淄川，返回替换后的字符串\n",
    "\n",
    "其中\n",
    "形参pattern表示正则表达式\n",
    "形参string是要匹配的字符串\n",
    "形参flags\n",
    "flags= re.I 可以忽略大小写\n",
    "flags= re.M 可以使得^能够认可每行的起始\n",
    "flags= re.S 可以使得.匹配所有字符，默认是不包括换行符的"
   ]
  },
  {
   "cell_type": "code",
   "execution_count": 5,
   "metadata": {},
   "outputs": [
    {
     "data": {
      "text/plain": [
       "'100081'"
      ]
     },
     "execution_count": 5,
     "metadata": {},
     "output_type": "execute_result"
    }
   ],
   "source": [
    "match=re.search(r'[1-9]\\d{5}','bit 100081 tsu 100084')\n",
    "match.group(0)"
   ]
  },
  {
   "cell_type": "code",
   "execution_count": 9,
   "metadata": {},
   "outputs": [],
   "source": [
    "match=re.match(r'[1-9]\\d{5}','bit 100081 tsu 100084')\n",
    "if match:\n",
    "    print(match.group(0))\n",
    "#没有输出，因为match要从开始去匹配，开始是bit不匹配"
   ]
  },
  {
   "cell_type": "code",
   "execution_count": 10,
   "metadata": {},
   "outputs": [
    {
     "name": "stdout",
     "output_type": "stream",
     "text": [
      "['100081', '100084']\n"
     ]
    }
   ],
   "source": [
    "match=re.findall(r'[1-9]\\d{5}','bit 100081 tsu 100084')\n",
    "if match:\n",
    "    print(match)"
   ]
  },
  {
   "cell_type": "code",
   "execution_count": 12,
   "metadata": {},
   "outputs": [
    {
     "name": "stdout",
     "output_type": "stream",
     "text": [
      "['bit ', ' tsu 100084']\n",
      "['bit ', ' tsu ', '']\n"
     ]
    }
   ],
   "source": [
    "match=re.split(r'[1-9]\\d{5}','bit 100081 tsu 100084',maxsplit=1)\n",
    "if match:\n",
    "    print(match)\n",
    "match=re.split(r'[1-9]\\d{5}','bit 100081 tsu 100084')\n",
    "if match:\n",
    "    print(match)"
   ]
  },
  {
   "cell_type": "code",
   "execution_count": 14,
   "metadata": {},
   "outputs": [
    {
     "name": "stdout",
     "output_type": "stream",
     "text": [
      "100081\n",
      "100084\n"
     ]
    }
   ],
   "source": [
    "match=re.finditer(r'[1-9]\\d{5}','bit 100081 tsu 100084')\n",
    "for i in match:\n",
    "    print(i.group(0))"
   ]
  },
  {
   "cell_type": "code",
   "execution_count": 15,
   "metadata": {},
   "outputs": [
    {
     "name": "stdout",
     "output_type": "stream",
     "text": [
      "bit miehaha tsu miehaha\n"
     ]
    }
   ],
   "source": [
    "match=re.sub(r'[1-9]\\d{5}','miehaha','bit 100081 tsu 100084')\n",
    "if match:\n",
    "    print(match)"
   ]
  },
  {
   "cell_type": "code",
   "execution_count": 20,
   "metadata": {},
   "outputs": [
    {
     "name": "stdout",
     "output_type": "stream",
     "text": [
      "A00081\n"
     ]
    }
   ],
   "source": [
    "match=re.search(r'[a-z]\\d{5}','bit A00081 tsu B00084',flags=re.I)\n",
    "if match:\n",
    "    print(match.group(0))\n",
    "match=re.search(r'[a-z]\\d{5}','bit A00081 tsu B00084')\n",
    "if match:\n",
    "    print(match.group(0))#没有匹配"
   ]
  },
  {
   "cell_type": "raw",
   "metadata": {},
   "source": [
    "当然出了直接re.功能这种一次性的搜索，也可以定义好正则表达式，然后通过这个正则表达式的对象来重复操作，功能和直接re的一样，当然形参少了pattern"
   ]
  },
  {
   "cell_type": "code",
   "execution_count": 22,
   "metadata": {},
   "outputs": [
    {
     "name": "stdout",
     "output_type": "stream",
     "text": [
      "100081\n"
     ]
    }
   ],
   "source": [
    "regex=re.compile(r'[1-9]\\d{5}')\n",
    "match=regex.search('bit 100081 tsu 100084')\n",
    "if match:\n",
    "    print(match.group(0))"
   ]
  },
  {
   "cell_type": "markdown",
   "metadata": {},
   "source": [
    "#  Match对象"
   ]
  },
  {
   "cell_type": "raw",
   "metadata": {},
   "source": [
    "属性\n",
    ".string           待匹配的对象\n",
    ".re              匹配时使用的pattern\n",
    ".pos             搜索文本的起始位置\n",
    ".endpos           搜索文本的结束位置"
   ]
  },
  {
   "cell_type": "code",
   "execution_count": 23,
   "metadata": {
    "scrolled": true
   },
   "outputs": [
    {
     "name": "stdout",
     "output_type": "stream",
     "text": [
      "bit 100081 tsu 100084\n",
      "re.compile('[1-9]\\\\d{5}')\n",
      "0\n",
      "21\n"
     ]
    }
   ],
   "source": [
    "match=re.search(r'[1-9]\\d{5}','bit 100081 tsu 100084')\n",
    "print(match.string)\n",
    "print(match.re)\n",
    "print(match.pos)\n",
    "print(match.endpos)"
   ]
  },
  {
   "cell_type": "raw",
   "metadata": {},
   "source": [
    "方法\n",
    ".group(0)         匹配的字符串\n",
    ".start()          匹配字符串在原始字符串的起始位置\n",
    ".end()           匹配字符串在原始字符串的结束位置\n",
    ".span(）          返回（.start(),.end()）\n"
   ]
  },
  {
   "cell_type": "code",
   "execution_count": 24,
   "metadata": {},
   "outputs": [
    {
     "name": "stdout",
     "output_type": "stream",
     "text": [
      "100081\n",
      "4\n",
      "10\n",
      "(4, 10)\n"
     ]
    }
   ],
   "source": [
    "match=re.search(r'[1-9]\\d{5}','bit 100081 tsu 100084')\n",
    "print(match.group(0))\n",
    "print(match.start())\n",
    "print(match.end())\n",
    "print(match.span())"
   ]
  },
  {
   "cell_type": "markdown",
   "metadata": {},
   "source": [
    "# 贪婪匹配和最小匹配"
   ]
  },
  {
   "cell_type": "raw",
   "metadata": {},
   "source": [
    "re默认贪匹配，如果想要最小匹配，则在表示数量的符号后再加个？\n",
    "*？    0到无穷多次，最小匹配\n",
    "+？    1到无穷多次，最小匹配\n",
    "？？   0到1次，最小匹配\n",
    "{m,n}?  m到n次，最小匹配"
   ]
  },
  {
   "cell_type": "code",
   "execution_count": 26,
   "metadata": {},
   "outputs": [
    {
     "name": "stdout",
     "output_type": "stream",
     "text": [
      "10\n"
     ]
    }
   ],
   "source": [
    "match=re.search(r'[1-9]\\d+?','bit 100081 tsu 100084')\n",
    "if match:\n",
    "    print(match.group(0))"
   ]
  },
  {
   "cell_type": "code",
   "execution_count": null,
   "metadata": {},
   "outputs": [],
   "source": []
  }
 ],
 "metadata": {
  "kernelspec": {
   "display_name": "Python 3",
   "language": "python",
   "name": "python3"
  },
  "language_info": {
   "codemirror_mode": {
    "name": "ipython",
    "version": 3
   },
   "file_extension": ".py",
   "mimetype": "text/x-python",
   "name": "python",
   "nbconvert_exporter": "python",
   "pygments_lexer": "ipython3",
   "version": "3.7.0"
  }
 },
 "nbformat": 4,
 "nbformat_minor": 2
}
