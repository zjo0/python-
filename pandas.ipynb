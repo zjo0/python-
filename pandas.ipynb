{
 "cells": [
  {
   "cell_type": "markdown",
   "metadata": {},
   "source": [
    "# 手动创建Series"
   ]
  },
  {
   "cell_type": "raw",
   "metadata": {},
   "source": [
    "用pd.Series,直接输入个列表"
   ]
  },
  {
   "cell_type": "code",
   "execution_count": 25,
   "metadata": {},
   "outputs": [
    {
     "name": "stdout",
     "output_type": "stream",
     "text": [
      "0    1.0\n",
      "1    2.0\n",
      "2    3.0\n",
      "3    NaN\n",
      "4    7.0\n",
      "5    8.0\n",
      "dtype: float64\n"
     ]
    }
   ],
   "source": [
    "import pandas as pd\n",
    "import numpy as np\n",
    "s=pd.Series([1,2,3,np.nan,7,8])\n",
    "print(s)"
   ]
  },
  {
   "cell_type": "raw",
   "metadata": {},
   "source": [
    "用pd.date_range创建时间格式的index,形参(start=None, end=None, periods=None, freq=None, tz=None, normalize=False, name=None, closed=None, **kwargs),periods是数量，freq是间隔，默认1天，可以用5H，2D，3M代表小时，天，月"
   ]
  },
  {
   "cell_type": "code",
   "execution_count": 26,
   "metadata": {},
   "outputs": [
    {
     "name": "stdout",
     "output_type": "stream",
     "text": [
      "DatetimeIndex(['2013-01-31', '2013-06-30', '2013-11-30', '2014-04-30',\n",
      "               '2014-09-30', '2015-02-28'],\n",
      "              dtype='datetime64[ns]', freq='5M')\n"
     ]
    }
   ],
   "source": [
    "dates=pd.date_range('20130101',periods=6,freq='5M')\n",
    "print(dates)"
   ]
  },
  {
   "cell_type": "markdown",
   "metadata": {},
   "source": [
    "# 手动创建DataFrame"
   ]
  },
  {
   "cell_type": "raw",
   "metadata": {},
   "source": [
    "用pd.DataFrame,输入个矩阵，同时定义列的名称,同时可以指定某个series为index列,不指定就默认1,2,3.。。的序号"
   ]
  },
  {
   "cell_type": "code",
   "execution_count": 27,
   "metadata": {},
   "outputs": [
    {
     "name": "stdout",
     "output_type": "stream",
     "text": [
      "             A         B         C         D\n",
      " 1.0  0.209402 -0.682977  0.107983 -1.126433\n",
      " 2.0  0.043171 -1.933812 -0.733962 -1.087006\n",
      " 3.0  0.696099 -0.702949  1.505925  0.070964\n",
      "NaN  -0.043441 -0.064462  0.292808  0.425783\n",
      " 7.0  0.569308 -1.865846 -0.066825 -1.178105\n",
      " 8.0 -0.429050 -0.052151  0.470584 -0.116800\n"
     ]
    }
   ],
   "source": [
    "a=pd.DataFrame(np.random.randn(6,4),columns=list('ABCD'),index=s)\n",
    "print(a)"
   ]
  },
  {
   "cell_type": "raw",
   "metadata": {},
   "source": [
    "或者直接输入字典形式，字典的内容等长，字典关键字就是列名，内容就是列对应的内容，可以有不同的类型"
   ]
  },
  {
   "cell_type": "code",
   "execution_count": 28,
   "metadata": {},
   "outputs": [
    {
     "name": "stdout",
     "output_type": "stream",
     "text": [
      "            A    B    C          D\n",
      "2013-01-31  0  foo  1.0 2013-01-01\n",
      "2013-06-30  1  foo  1.0 2013-01-01\n",
      "2013-11-30  2  foo  1.0 2013-01-01\n",
      "2014-04-30  3  foo  1.0 2013-01-01\n",
      "2014-09-30  4  foo  1.0 2013-01-01\n",
      "2015-02-28  5  foo  1.0 2013-01-01\n",
      "A             int32\n",
      "B            object\n",
      "C           float64\n",
      "D    datetime64[ns]\n",
      "dtype: object\n"
     ]
    }
   ],
   "source": [
    "b={'A':np.arange(6),'B':'foo','C':1.,'D':pd.Timestamp('20130101')}\n",
    "a=pd.DataFrame(b,index=dates)\n",
    "print(a)\n",
    "print(a.dtypes)"
   ]
  },
  {
   "cell_type": "markdown",
   "metadata": {},
   "source": [
    "# 读取，输出excel"
   ]
  },
  {
   "cell_type": "raw",
   "metadata": {},
   "source": [
    "pd.read_excel(path，headers=) 就可以读取，会默认把第一行内容作为columns，headers可以把第几+1行作为columns，上面的行就抛弃了。\n",
    "a.to_excel(path)就保存出去了\n",
    "有时相对路径不能用，还得import os，先用os.getcwd()获取当前路径，在这基础上在加上+r'\\database\\cb_database.xlsx'才能去读"
   ]
  },
  {
   "cell_type": "markdown",
   "metadata": {},
   "source": [
    "# 截取区域"
   ]
  },
  {
   "cell_type": "markdown",
   "metadata": {},
   "source": [
    "# # 通过位置或名称截取"
   ]
  },
  {
   "cell_type": "raw",
   "metadata": {},
   "source": [
    "使用loc，可以根据行和列的名称来截取，使用iloc可以根据位置来截取，行列同时截取，用列表来输入，第一个表示行，第二个表示列，具体到行列的选择，连续的用:连接，零散选择的用列表选择"
   ]
  },
  {
   "cell_type": "code",
   "execution_count": 29,
   "metadata": {},
   "outputs": [
    {
     "name": "stdout",
     "output_type": "stream",
     "text": [
      "            A    C\n",
      "2013-01-31  0  1.0\n",
      "2013-06-30  1  1.0\n",
      "2013-11-30  2  1.0\n"
     ]
    }
   ],
   "source": [
    "print(a.loc[dates[0]:dates[2],['A','C']])"
   ]
  },
  {
   "cell_type": "code",
   "execution_count": 30,
   "metadata": {},
   "outputs": [
    {
     "name": "stdout",
     "output_type": "stream",
     "text": [
      "2013-01-31    foo\n",
      "2013-06-30    foo\n",
      "2013-11-30    foo\n",
      "2014-04-30    foo\n",
      "2014-09-30    foo\n",
      "2015-02-28    foo\n",
      "Freq: 5M, Name: B, dtype: object\n"
     ]
    }
   ],
   "source": [
    "print(a['B'])#可以省略为a.B"
   ]
  },
  {
   "cell_type": "code",
   "execution_count": 31,
   "metadata": {},
   "outputs": [
    {
     "name": "stdout",
     "output_type": "stream",
     "text": [
      "              B    C\n",
      "2013-01-31  foo  1.0\n",
      "2013-06-30  foo  1.0\n",
      "2013-11-30  foo  1.0\n",
      "2014-04-30  foo  1.0\n",
      "2014-09-30  foo  1.0\n",
      "2015-02-28  foo  1.0\n"
     ]
    }
   ],
   "source": [
    "print(a.iloc[:,1:3])"
   ]
  },
  {
   "cell_type": "raw",
   "metadata": {},
   "source": [
    "使用a.head a.tail可以选择前/后多少行"
   ]
  },
  {
   "cell_type": "code",
   "execution_count": 32,
   "metadata": {},
   "outputs": [
    {
     "name": "stdout",
     "output_type": "stream",
     "text": [
      "            A    B    C          D\n",
      "2013-01-31  0  foo  1.0 2013-01-01\n",
      "2013-06-30  1  foo  1.0 2013-01-01\n",
      "            A    B    C          D\n",
      "2015-02-28  5  foo  1.0 2013-01-01\n"
     ]
    }
   ],
   "source": [
    "print(a.head(2))#截取前两行\n",
    "print(a.tail(1))#截取最后一行"
   ]
  },
  {
   "cell_type": "raw",
   "metadata": {},
   "source": [
    "a.columns 和a.index 可以提取行名和列名"
   ]
  },
  {
   "cell_type": "code",
   "execution_count": 33,
   "metadata": {},
   "outputs": [
    {
     "name": "stdout",
     "output_type": "stream",
     "text": [
      "Index(['A', 'B', 'C', 'D'], dtype='object')\n"
     ]
    }
   ],
   "source": [
    "print(a.columns)"
   ]
  },
  {
   "cell_type": "code",
   "execution_count": 34,
   "metadata": {},
   "outputs": [
    {
     "name": "stdout",
     "output_type": "stream",
     "text": [
      "DatetimeIndex(['2013-01-31', '2013-06-30', '2013-11-30', '2014-04-30',\n",
      "               '2014-09-30', '2015-02-28'],\n",
      "              dtype='datetime64[ns]', freq='5M')\n"
     ]
    }
   ],
   "source": [
    "print(a.index)"
   ]
  },
  {
   "cell_type": "markdown",
   "metadata": {},
   "source": [
    "## 通过条件截取"
   ]
  },
  {
   "cell_type": "raw",
   "metadata": {},
   "source": [
    "通过单行的boolen可以截取特定的行，所有元素的boolen，则会把所有false的转成np.nan"
   ]
  },
  {
   "cell_type": "code",
   "execution_count": 35,
   "metadata": {},
   "outputs": [
    {
     "name": "stdout",
     "output_type": "stream",
     "text": [
      "            A    B    C          D\n",
      "2013-01-31  0  foo  1.0 2013-01-01\n",
      "2013-06-30  1  foo  1.0 2013-01-01\n",
      "2013-11-30  2  foo  1.0 2013-01-01\n",
      "2014-04-30  3  foo  1.0 2013-01-01\n",
      "2014-09-30  4  foo  1.0 2013-01-01\n",
      "2015-02-28  5  foo  1.0 2013-01-01\n"
     ]
    }
   ],
   "source": [
    "print(a)"
   ]
  },
  {
   "cell_type": "code",
   "execution_count": 36,
   "metadata": {},
   "outputs": [
    {
     "name": "stdout",
     "output_type": "stream",
     "text": [
      "2013-01-31    False\n",
      "2013-06-30    False\n",
      "2013-11-30    False\n",
      "2014-04-30    False\n",
      "2014-09-30     True\n",
      "2015-02-28     True\n",
      "Freq: 5M, Name: A, dtype: bool\n",
      "            A    B    C          D\n",
      "2014-09-30  4  foo  1.0 2013-01-01\n",
      "2015-02-28  5  foo  1.0 2013-01-01\n"
     ]
    }
   ],
   "source": [
    "print(a.A>3)\n",
    "print(a[a.A>3])"
   ]
  },
  {
   "cell_type": "code",
   "execution_count": 37,
   "metadata": {},
   "outputs": [
    {
     "name": "stdout",
     "output_type": "stream",
     "text": [
      "                A     B      C     D\n",
      "2013-01-31  False  True  False  True\n",
      "2013-06-30  False  True  False  True\n",
      "2013-11-30  False  True  False  True\n",
      "2014-04-30  False  True  False  True\n",
      "2014-09-30   True  True  False  True\n",
      "2015-02-28   True  True  False  True\n",
      "              A    B   C          D\n",
      "2013-01-31  NaN  foo NaN 2013-01-01\n",
      "2013-06-30  NaN  foo NaN 2013-01-01\n",
      "2013-11-30  NaN  foo NaN 2013-01-01\n",
      "2014-04-30  NaN  foo NaN 2013-01-01\n",
      "2014-09-30  4.0  foo NaN 2013-01-01\n",
      "2015-02-28  5.0  foo NaN 2013-01-01\n"
     ]
    }
   ],
   "source": [
    "print(a>3)\n",
    "print(a[a>3])"
   ]
  },
  {
   "cell_type": "markdown",
   "metadata": {},
   "source": [
    "# 赋值"
   ]
  },
  {
   "cell_type": "raw",
   "metadata": {},
   "source": [
    "可以直接对新增的列名赋予一系列值，就会新增列"
   ]
  },
  {
   "cell_type": "code",
   "execution_count": 38,
   "metadata": {},
   "outputs": [
    {
     "name": "stdout",
     "output_type": "stream",
     "text": [
      "            A    B    C          D\n",
      "2013-01-31  0  foo  1.0 2013-01-01\n",
      "2013-06-30  1  foo  1.0 2013-01-01\n",
      "2013-11-30  2  foo  1.0 2013-01-01\n",
      "2014-04-30  3  foo  1.0 2013-01-01\n",
      "2014-09-30  4  foo  1.0 2013-01-01\n",
      "2015-02-28  5  foo  1.0 2013-01-01\n",
      "            A    B    C          D  E\n",
      "2013-01-31  0  foo  1.0 2013-01-01  q\n",
      "2013-06-30  1  foo  1.0 2013-01-01  w\n",
      "2013-11-30  2  foo  1.0 2013-01-01  e\n",
      "2014-04-30  3  foo  1.0 2013-01-01  r\n",
      "2014-09-30  4  foo  1.0 2013-01-01  t\n",
      "2015-02-28  5  foo  1.0 2013-01-01  t\n"
     ]
    }
   ],
   "source": [
    "print(a)\n",
    "a['E']=list('qwertt')\n",
    "print(a)"
   ]
  },
  {
   "cell_type": "raw",
   "metadata": {},
   "source": [
    "也可以通过loc ，iloc等方法对特定的值或区域赋值"
   ]
  },
  {
   "cell_type": "code",
   "execution_count": 39,
   "metadata": {},
   "outputs": [
    {
     "name": "stdout",
     "output_type": "stream",
     "text": [
      "            A    B    C          D  E\n",
      "2013-01-31  0  foo  1.0 2013-01-01  q\n",
      "2013-06-30  1  foo  1.0 2013-01-01  w\n",
      "2013-11-30  2  foo  1.0 2013-01-01  e\n",
      "2014-04-30  3  foo  1.0 2013-01-01  r\n",
      "2014-09-30  4  foo  1.0 2013-01-01  t\n",
      "2015-02-28  5  foo  1.0 2013-01-01  t\n",
      "             A    B   C          D  E\n",
      "2013-01-31   0  foo   1 2013-01-01  q\n",
      "2013-06-30   2  foo   3 2013-01-01  w\n",
      "2013-11-30   4  fwo   5 2013-01-01  e\n",
      "2014-04-30   6  foo   7 2013-01-01  r\n",
      "2014-09-30   8  foo   9 2013-01-01  t\n",
      "2015-02-28  10  foo  11 2013-01-01  t\n"
     ]
    }
   ],
   "source": [
    "print(a)\n",
    "b=np.arange(12).reshape(6,2)\n",
    "a.loc[:,['A','C']]=b\n",
    "a.iloc[2,1]='fwo'\n",
    "print(a)"
   ]
  },
  {
   "cell_type": "raw",
   "metadata": {},
   "source": [
    "可以通过boolen来实现对特定区域的操作"
   ]
  },
  {
   "cell_type": "code",
   "execution_count": 40,
   "metadata": {},
   "outputs": [
    {
     "name": "stdout",
     "output_type": "stream",
     "text": [
      "             A   C\n",
      "2013-01-31   0   1\n",
      "2013-06-30   2   3\n",
      "2013-11-30   4   5\n",
      "2014-04-30   6   7\n",
      "2014-09-30   8   9\n",
      "2015-02-28  10  11\n",
      "             A   C\n",
      "2013-01-31   0   1\n",
      "2013-06-30   2   3\n",
      "2013-11-30  -4  -5\n",
      "2014-04-30  -6  -7\n",
      "2014-09-30  -8  -9\n",
      "2015-02-28 -10 -11\n"
     ]
    }
   ],
   "source": [
    "b=a.loc[:,['A','C']]\n",
    "print(b)\n",
    "b[b>3]=-b\n",
    "print(b)"
   ]
  },
  {
   "cell_type": "markdown",
   "metadata": {},
   "source": [
    "# np.NAN"
   ]
  },
  {
   "cell_type": "raw",
   "metadata": {},
   "source": [
    "读入的数据，缺失的会默认为np.nan，丢弃任意含有nan的行使用a.dropna(how='any'),填充用a.fillna(value=5),得到nan位置的boolen阵用pd.isna（a）"
   ]
  },
  {
   "cell_type": "markdown",
   "metadata": {},
   "source": [
    "# Apply"
   ]
  },
  {
   "cell_type": "raw",
   "metadata": {},
   "source": [
    "apply是对pandas 数组的每一列/行进行处理的程序，需要定义方法的程序（提前写好程序，或者直接用lambda），注意用axis=1来对每一行处理，不会改变原数组，要是想输出结果，最好借助程序的列表类形参的指向，来修改别的数组（某次发现如果对本数组结构做改变，会有意外情况，重新开始每一行apply）"
   ]
  },
  {
   "cell_type": "code",
   "execution_count": 44,
   "metadata": {},
   "outputs": [
    {
     "name": "stdout",
     "output_type": "stream",
     "text": [
      "   a  b  c  d\n",
      "0  7  8  8  1\n",
      "1  6  1  4  2\n",
      "2  5  6  7  0\n",
      "3  9  9  2  5\n",
      "4  8  5  1  9\n",
      "\n",
      "0    15\n",
      "1     7\n",
      "2    11\n",
      "3    18\n",
      "4    13\n",
      "dtype: int64\n"
     ]
    }
   ],
   "source": [
    "a=pd.DataFrame(np.random.randint(10,size=(5,4)),columns=['a','b','c','d'])\n",
    "print(a)\n",
    "print('')\n",
    "print(a.apply(lambda x: x.a+x.b,axis=1))#lambda的x就是a的每一行"
   ]
  },
  {
   "cell_type": "raw",
   "metadata": {},
   "source": [
    "可以借助lambda来调用程序"
   ]
  },
  {
   "cell_type": "code",
   "execution_count": 46,
   "metadata": {},
   "outputs": [
    {
     "name": "stdout",
     "output_type": "stream",
     "text": [
      "   a  b  c  d\n",
      "0  3  3  9  0\n",
      "1  7  5  9  4\n",
      "2  0  4  5  2\n",
      "3  6  0  0  7\n",
      "4  0  7  6  7\n",
      "\n",
      "0    9\n",
      "1    5\n",
      "2    5\n",
      "3    0\n",
      "4    6\n",
      "dtype: int64\n"
     ]
    }
   ],
   "source": [
    "def switch(x):\n",
    "    if x.a>5:\n",
    "        return x.b\n",
    "    else:\n",
    "        return x.c\n",
    "a=pd.DataFrame(np.random.randint(10,size=(5,4)),columns=['a','b','c','d'])\n",
    "print(a)\n",
    "print('')\n",
    "print(a.apply(lambda x: switch(x),axis=1))#甚至可以用程序的列表类形参去修改，增加别的dataframe"
   ]
  },
  {
   "cell_type": "markdown",
   "metadata": {},
   "source": [
    "# Groupby"
   ]
  },
  {
   "cell_type": "code",
   "execution_count": 53,
   "metadata": {},
   "outputs": [
    {
     "name": "stdout",
     "output_type": "stream",
     "text": [
      "   a  b  c  d\n",
      "0  1  2  3  4\n",
      "1  1  4  5  7\n",
      "2  2  3  4  5\n",
      "3  3  4  6  7\n",
      "4  2  6  7  8\n",
      "   b   c   d\n",
      "a           \n",
      "1  6   8  11\n",
      "2  9  11  13\n",
      "3  4   6   7\n"
     ]
    }
   ],
   "source": [
    "a=pd.DataFrame([[1,2,3,4],[1,4,5,7],[2,3,4,5],[3,4,6,7],[2,6,7,8]],columns=['a','b','c','d'])\n",
    "print(a)\n",
    "print(a.groupby('a').sum())"
   ]
  },
  {
   "cell_type": "raw",
   "metadata": {},
   "source": [
    "groupby可以把标签组成列表，比如['a','b'],就是以a，b组成multiindex来组合了，后面的sum（）是对其他行的处理方法。还有min,max，mean之类的。\n",
    "如果想对不同的列有不同的处理方法，可以用apply调用程序来实现。"
   ]
  },
  {
   "cell_type": "code",
   "execution_count": 62,
   "metadata": {},
   "outputs": [
    {
     "name": "stdout",
     "output_type": "stream",
     "text": [
      "   a  b  c  d\n",
      "0  1  2  3  4\n",
      "1  1  4  5  7\n",
      "2  2  3  4  5\n",
      "3  3  4  6  7\n",
      "4  2  6  7  8\n",
      "\n",
      "   b   e       comment\n",
      "a                     \n",
      "1  6  19  2 3 4;/4 5 7\n",
      "2  9  24  3 4 5;/6 7 8\n",
      "3  4  13         4 6 7\n"
     ]
    }
   ],
   "source": [
    "def dandu(x):#x其实是group之后的数组,要返回一个series，可以改结构\n",
    "    xin={}\n",
    "    xin['b']=x['b'].sum() #x['b']是个series，b就是原来的b之和\n",
    "    xin['e']=x['c'].sum()+x['d'].sum()#e是把所有cd列相加\n",
    "    xin['comment']=(x['b'].apply(str)+' '+x['c'].apply(str)+' '+x['d'].apply(str)).str.cat(sep=';/')\n",
    "    #()里的是把abcd以str形式连起来，然后生成一个series，然后对这个series用：/分隔的形式组成一个大str，作为comment的内容\n",
    "    return pd.Series(xin,index=['b','e','comment'])\n",
    "print(a)\n",
    "print('')\n",
    "print(a.groupby('a').apply(dandu))"
   ]
  },
  {
   "cell_type": "code",
   "execution_count": null,
   "metadata": {},
   "outputs": [],
   "source": []
  }
 ],
 "metadata": {
  "kernelspec": {
   "display_name": "Python 3",
   "language": "python",
   "name": "python3"
  },
  "language_info": {
   "codemirror_mode": {
    "name": "ipython",
    "version": 3
   },
   "file_extension": ".py",
   "mimetype": "text/x-python",
   "name": "python",
   "nbconvert_exporter": "python",
   "pygments_lexer": "ipython3",
   "version": "3.7.0"
  }
 },
 "nbformat": 4,
 "nbformat_minor": 2
}
