{
 "cells": [
  {
   "cell_type": "markdown",
   "metadata": {},
   "source": [
    "# 创建数组"
   ]
  },
  {
   "cell_type": "code",
   "execution_count": 68,
   "metadata": {},
   "outputs": [],
   "source": [
    "import numpy as np"
   ]
  },
  {
   "cell_type": "markdown",
   "metadata": {},
   "source": [
    "## 直接输入 np.array"
   ]
  },
  {
   "cell_type": "code",
   "execution_count": 69,
   "metadata": {},
   "outputs": [
    {
     "name": "stdout",
     "output_type": "stream",
     "text": [
      "[[1 2 3]\n",
      " [3 4 6]]\n"
     ]
    }
   ],
   "source": [
    "a=np.array([[1,2,3],[3,4,6]])\n",
    "print(a)"
   ]
  },
  {
   "cell_type": "markdown",
   "metadata": {},
   "source": [
    "## 全为0，全为1，全为某一个值的数组 np.zeros & np.ones & np.full"
   ]
  },
  {
   "cell_type": "code",
   "execution_count": 70,
   "metadata": {},
   "outputs": [
    {
     "name": "stdout",
     "output_type": "stream",
     "text": [
      "a:\n",
      "[[0. 0. 0. 0. 0.]\n",
      " [0. 0. 0. 0. 0.]\n",
      " [0. 0. 0. 0. 0.]]\n",
      "b:\n",
      "[[1. 1. 1.]\n",
      " [1. 1. 1.]]\n",
      "c:\n",
      "[[5 5 5 5 5 5]\n",
      " [5 5 5 5 5 5]\n",
      " [5 5 5 5 5 5]]\n"
     ]
    }
   ],
   "source": [
    "a=np.zeros((3,5))\n",
    "print('a:')\n",
    "print(a)\n",
    "b=np.ones((2,3))\n",
    "print('b:')\n",
    "print(b)\n",
    "c=np.full((3,6),5)\n",
    "print('c:')\n",
    "print(c)"
   ]
  },
  {
   "cell_type": "markdown",
   "metadata": {},
   "source": [
    "## 单位矩阵 np.eye"
   ]
  },
  {
   "cell_type": "code",
   "execution_count": 71,
   "metadata": {},
   "outputs": [
    {
     "name": "stdout",
     "output_type": "stream",
     "text": [
      "[[1. 0. 0. 0. 0.]\n",
      " [0. 1. 0. 0. 0.]\n",
      " [0. 0. 1. 0. 0.]\n",
      " [0. 0. 0. 1. 0.]\n",
      " [0. 0. 0. 0. 1.]]\n"
     ]
    }
   ],
   "source": [
    "a=np.eye(5)\n",
    "print(a)"
   ]
  },
  {
   "cell_type": "markdown",
   "metadata": {},
   "source": [
    "## 随机矩阵 np.random.random & np.random.randint"
   ]
  },
  {
   "cell_type": "markdown",
   "metadata": {},
   "source": [
    "np.random.random输入矩阵维度，建立0-1的随机数矩阵；np.random.randint 输入矩阵维度以及随机数范围，建立随机整数的矩阵"
   ]
  },
  {
   "cell_type": "code",
   "execution_count": 72,
   "metadata": {},
   "outputs": [
    {
     "name": "stdout",
     "output_type": "stream",
     "text": [
      "[[0.23161073 0.28984192 0.09514208 0.83524947]\n",
      " [0.25570065 0.50064122 0.80612459 0.22411042]\n",
      " [0.63685097 0.29770592 0.75470896 0.83599659]]\n",
      "[[3 4 7 6 7]\n",
      " [4 3 6 5 4]]\n"
     ]
    }
   ],
   "source": [
    "a=np.random.random((3,4))\n",
    "print(a)\n",
    "b=np.random.randint(3,9,(2,5))\n",
    "print(b)\n"
   ]
  },
  {
   "cell_type": "markdown",
   "metadata": {},
   "source": [
    "## 建立均分数列 np.linspace & np.arange"
   ]
  },
  {
   "cell_type": "markdown",
   "metadata": {},
   "source": [
    "建立均分数列，a=np.linspace(min,max,num=50，endpoint=True。。。)，默认均分成50份，默认包括最小和最大\n",
    "\n",
    "建立均分数列2，a=np.arange(min=0,max,step=1) 默认包括最小，不包括最大，默认间距1，从min开始，一直加，直到超过max"
   ]
  },
  {
   "cell_type": "code",
   "execution_count": 73,
   "metadata": {},
   "outputs": [
    {
     "name": "stdout",
     "output_type": "stream",
     "text": [
      "[ 1.          1.18367347  1.36734694  1.55102041  1.73469388  1.91836735\n",
      "  2.10204082  2.28571429  2.46938776  2.65306122  2.83673469  3.02040816\n",
      "  3.20408163  3.3877551   3.57142857  3.75510204  3.93877551  4.12244898\n",
      "  4.30612245  4.48979592  4.67346939  4.85714286  5.04081633  5.2244898\n",
      "  5.40816327  5.59183673  5.7755102   5.95918367  6.14285714  6.32653061\n",
      "  6.51020408  6.69387755  6.87755102  7.06122449  7.24489796  7.42857143\n",
      "  7.6122449   7.79591837  7.97959184  8.16326531  8.34693878  8.53061224\n",
      "  8.71428571  8.89795918  9.08163265  9.26530612  9.44897959  9.63265306\n",
      "  9.81632653 10.        ]\n",
      "[10. 12. 14. 16. 18. 20. 22. 24. 26. 28. 30. 32. 34. 36. 38. 40. 42. 44.\n",
      " 46. 48. 50.]\n",
      "[0 1 2 3 4 5 6 7 8 9]\n",
      "[2 4 6 8]\n"
     ]
    }
   ],
   "source": [
    "a=np.linspace(1,10)\n",
    "b=np.linspace(10,50,21)\n",
    "c=np.arange(10)\n",
    "d=np.arange(2,9,2)\n",
    "print(a)\n",
    "print(b)\n",
    "print(c)\n",
    "print(d)"
   ]
  },
  {
   "cell_type": "markdown",
   "metadata": {},
   "source": [
    "# 数组变形与索引"
   ]
  },
  {
   "cell_type": "markdown",
   "metadata": {},
   "source": [
    "## 输出数组维度 np.shape"
   ]
  },
  {
   "cell_type": "code",
   "execution_count": 74,
   "metadata": {},
   "outputs": [
    {
     "name": "stdout",
     "output_type": "stream",
     "text": [
      "[[1 2 3 4]\n",
      " [5 6 8 9]]\n",
      "(2, 4)\n"
     ]
    }
   ],
   "source": [
    "a=np.array([[1,2,3,4],[5,6,8,9]])\n",
    "print(a)\n",
    "print(a.shape)"
   ]
  },
  {
   "cell_type": "markdown",
   "metadata": {},
   "source": [
    "## 更改数组维度 np.reshape"
   ]
  },
  {
   "cell_type": "markdown",
   "metadata": {},
   "source": [
    "np.reshape 按照先行在列的顺序重新排列，不影响原数列值"
   ]
  },
  {
   "cell_type": "code",
   "execution_count": 75,
   "metadata": {},
   "outputs": [
    {
     "name": "stdout",
     "output_type": "stream",
     "text": [
      "[0 1 2 3 4 5 6 7 8 9]\n",
      "[0 1 2 3 4 5 6 7 8 9]\n",
      "[[0 1 2 3 4]\n",
      " [5 6 7 8 9]]\n"
     ]
    }
   ],
   "source": [
    "a=np.arange(10)\n",
    "print(a)\n",
    "b=a.reshape(2,5)\n",
    "print(a)\n",
    "print(b)"
   ]
  },
  {
   "cell_type": "markdown",
   "metadata": {},
   "source": [
    "## 数组转置 a.T"
   ]
  },
  {
   "cell_type": "code",
   "execution_count": 76,
   "metadata": {},
   "outputs": [
    {
     "name": "stdout",
     "output_type": "stream",
     "text": [
      "[[0 1 2]\n",
      " [3 4 5]]\n",
      "[[0 3]\n",
      " [1 4]\n",
      " [2 5]]\n"
     ]
    }
   ],
   "source": [
    "a=np.arange(6).reshape(2,3)\n",
    "print(a)\n",
    "print(a.T)"
   ]
  },
  {
   "cell_type": "markdown",
   "metadata": {},
   "source": [
    "## 注意一维数组"
   ]
  },
  {
   "cell_type": "code",
   "execution_count": 110,
   "metadata": {},
   "outputs": [
    {
     "name": "stdout",
     "output_type": "stream",
     "text": [
      "[0 1 2 3 4 5 6 7 8 9]\n",
      "[0 1 2 3 4 5 6 7 8 9]\n",
      "(10,)\n",
      "\n",
      "\n",
      "[[0 1 2 3 4 5 6 7 8 9]]\n",
      "[[0]\n",
      " [1]\n",
      " [2]\n",
      " [3]\n",
      " [4]\n",
      " [5]\n",
      " [6]\n",
      " [7]\n",
      " [8]\n",
      " [9]]\n",
      "(1, 10)\n",
      "\n",
      "\n",
      "[[ 0  1  4  9 16 25 36 49 64 81]]\n",
      "\n",
      "\n",
      "[[ 0  0  0  0  0  0  0  0  0  0]\n",
      " [ 0  1  2  3  4  5  6  7  8  9]\n",
      " [ 0  2  4  6  8 10 12 14 16 18]\n",
      " [ 0  3  6  9 12 15 18 21 24 27]\n",
      " [ 0  4  8 12 16 20 24 28 32 36]\n",
      " [ 0  5 10 15 20 25 30 35 40 45]\n",
      " [ 0  6 12 18 24 30 36 42 48 54]\n",
      " [ 0  7 14 21 28 35 42 49 56 63]\n",
      " [ 0  8 16 24 32 40 48 56 64 72]\n",
      " [ 0  9 18 27 36 45 54 63 72 81]]\n",
      "\n",
      "\n",
      "[[ 0  1  4  9 16 25 36 49 64 81]]\n"
     ]
    }
   ],
   "source": [
    "a1=np.arange(10)#一维数组，转置无意义\n",
    "print(a1)\n",
    "print(a1.T)\n",
    "print(a1.shape)\n",
    "print('\\n')\n",
    "a2=np.arange(10).reshape(1,10)\n",
    "print(a2)\n",
    "print(a2.T)\n",
    "print(a2.shape)\n",
    "print('\\n')\n",
    "print(a2*a1)\n",
    "print('\\n')\n",
    "print(a2.T*a1)\n",
    "print('\\n')\n",
    "print(a2*a1.T)"
   ]
  },
  {
   "cell_type": "markdown",
   "metadata": {},
   "source": [
    "# 数组索引"
   ]
  },
  {
   "cell_type": "markdown",
   "metadata": {},
   "source": [
    "数列索引中，行列数字是从0开始的，截取的范围包括小的，不包括大的"
   ]
  },
  {
   "cell_type": "code",
   "execution_count": 77,
   "metadata": {},
   "outputs": [
    {
     "name": "stdout",
     "output_type": "stream",
     "text": [
      "[[ 0  1  2  3]\n",
      " [ 4  5  6  7]\n",
      " [ 8  9 10 11]]\n",
      "[[ 6  7]\n",
      " [10 11]]\n",
      "[[ 6  7]\n",
      " [10 11]]\n",
      "[[ 1  2]\n",
      " [ 5  6]\n",
      " [ 9 10]]\n"
     ]
    }
   ],
   "source": [
    "a=np.arange(12).reshape(3,4)\n",
    "print(a)\n",
    "print(a[1:3,2:4])\n",
    "print(a[-2:,2:])\n",
    "print(a[:,1:3])"
   ]
  },
  {
   "cell_type": "markdown",
   "metadata": {},
   "source": [
    "# 数组整合与拆分"
   ]
  },
  {
   "cell_type": "markdown",
   "metadata": {},
   "source": [
    "## 数组整合 np.concatenate"
   ]
  },
  {
   "cell_type": "markdown",
   "metadata": {},
   "source": [
    "np.concatenate(（a,b）,axis=0) 整合a b 沿着axis给的轴来整合"
   ]
  },
  {
   "cell_type": "code",
   "execution_count": 78,
   "metadata": {},
   "outputs": [
    {
     "name": "stdout",
     "output_type": "stream",
     "text": [
      "[[0 1 2]\n",
      " [3 4 5]]\n",
      "[[ 6  7  8]\n",
      " [ 9 10 11]]\n",
      "[[ 0  1  2]\n",
      " [ 3  4  5]\n",
      " [ 6  7  8]\n",
      " [ 9 10 11]]\n",
      "[[ 0  1  2  6  7  8]\n",
      " [ 3  4  5  9 10 11]]\n",
      "Help on built-in function concatenate in module numpy.core.multiarray:\n",
      "\n",
      "concatenate(...)\n",
      "    concatenate((a1, a2, ...), axis=0, out=None)\n",
      "    \n",
      "    Join a sequence of arrays along an existing axis.\n",
      "    \n",
      "    Parameters\n",
      "    ----------\n",
      "    a1, a2, ... : sequence of array_like\n",
      "        The arrays must have the same shape, except in the dimension\n",
      "        corresponding to `axis` (the first, by default).\n",
      "    axis : int, optional\n",
      "        The axis along which the arrays will be joined.  If axis is None,\n",
      "        arrays are flattened before use.  Default is 0.\n",
      "    out : ndarray, optional\n",
      "        If provided, the destination to place the result. The shape must be\n",
      "        correct, matching that of what concatenate would have returned if no\n",
      "        out argument were specified.\n",
      "    \n",
      "    Returns\n",
      "    -------\n",
      "    res : ndarray\n",
      "        The concatenated array.\n",
      "    \n",
      "    See Also\n",
      "    --------\n",
      "    ma.concatenate : Concatenate function that preserves input masks.\n",
      "    array_split : Split an array into multiple sub-arrays of equal or\n",
      "                  near-equal size.\n",
      "    split : Split array into a list of multiple sub-arrays of equal size.\n",
      "    hsplit : Split array into multiple sub-arrays horizontally (column wise)\n",
      "    vsplit : Split array into multiple sub-arrays vertically (row wise)\n",
      "    dsplit : Split array into multiple sub-arrays along the 3rd axis (depth).\n",
      "    stack : Stack a sequence of arrays along a new axis.\n",
      "    hstack : Stack arrays in sequence horizontally (column wise)\n",
      "    vstack : Stack arrays in sequence vertically (row wise)\n",
      "    dstack : Stack arrays in sequence depth wise (along third dimension)\n",
      "    \n",
      "    Notes\n",
      "    -----\n",
      "    When one or more of the arrays to be concatenated is a MaskedArray,\n",
      "    this function will return a MaskedArray object instead of an ndarray,\n",
      "    but the input masks are *not* preserved. In cases where a MaskedArray\n",
      "    is expected as input, use the ma.concatenate function from the masked\n",
      "    array module instead.\n",
      "    \n",
      "    Examples\n",
      "    --------\n",
      "    >>> a = np.array([[1, 2], [3, 4]])\n",
      "    >>> b = np.array([[5, 6]])\n",
      "    >>> np.concatenate((a, b), axis=0)\n",
      "    array([[1, 2],\n",
      "           [3, 4],\n",
      "           [5, 6]])\n",
      "    >>> np.concatenate((a, b.T), axis=1)\n",
      "    array([[1, 2, 5],\n",
      "           [3, 4, 6]])\n",
      "    >>> np.concatenate((a, b), axis=None)\n",
      "    array([1, 2, 3, 4, 5, 6])\n",
      "    \n",
      "    This function will not preserve masking of MaskedArray inputs.\n",
      "    \n",
      "    >>> a = np.ma.arange(3)\n",
      "    >>> a[1] = np.ma.masked\n",
      "    >>> b = np.arange(2, 5)\n",
      "    >>> a\n",
      "    masked_array(data = [0 -- 2],\n",
      "                 mask = [False  True False],\n",
      "           fill_value = 999999)\n",
      "    >>> b\n",
      "    array([2, 3, 4])\n",
      "    >>> np.concatenate([a, b])\n",
      "    masked_array(data = [0 1 2 2 3 4],\n",
      "                 mask = False,\n",
      "           fill_value = 999999)\n",
      "    >>> np.ma.concatenate([a, b])\n",
      "    masked_array(data = [0 -- 2 2 3 4],\n",
      "                 mask = [False  True False False False False],\n",
      "           fill_value = 999999)\n",
      "\n",
      "None\n"
     ]
    }
   ],
   "source": [
    "a=np.arange(6).reshape(2,3)\n",
    "b=np.arange(6,12).reshape(2,3)\n",
    "print(a)\n",
    "print(b)\n",
    "print(np.concatenate((a,b),0))\n",
    "print(np.concatenate((a,b),1))\n",
    "print(help(np.concatenate))"
   ]
  },
  {
   "cell_type": "markdown",
   "metadata": {},
   "source": [
    "# 数组计算"
   ]
  },
  {
   "cell_type": "markdown",
   "metadata": {},
   "source": [
    "## 数组 + - 及数乘"
   ]
  },
  {
   "cell_type": "markdown",
   "metadata": {},
   "source": [
    "数组+ - 直接对应位置元素相加，数乘直接所有元素乘以该数"
   ]
  },
  {
   "cell_type": "code",
   "execution_count": 79,
   "metadata": {},
   "outputs": [
    {
     "name": "stdout",
     "output_type": "stream",
     "text": [
      "[[1 2]\n",
      " [3 4]]\n",
      "[[1. 1.]\n",
      " [1. 1.]]\n",
      "[[2. 3.]\n",
      " [4. 5.]]\n",
      "[[0. 1.]\n",
      " [2. 3.]]\n",
      "[[1.5 3. ]\n",
      " [4.5 6. ]]\n"
     ]
    }
   ],
   "source": [
    "a=np.arange(1,5).reshape((2,2))\n",
    "b=np.ones((2,2))\n",
    "print(a)\n",
    "print(b)\n",
    "print(a+b)\n",
    "print(a-b)\n",
    "print(a*1.5)\n"
   ]
  },
  {
   "cell_type": "markdown",
   "metadata": {},
   "source": [
    "数组+ - 要同维度，除非是行向量（/列向量），并且数量与对应矩阵的列数（/行数）相同，就挨个加过去"
   ]
  },
  {
   "cell_type": "code",
   "execution_count": 80,
   "metadata": {},
   "outputs": [
    {
     "name": "stdout",
     "output_type": "stream",
     "text": [
      "[[1 2 3 4]\n",
      " [5 6 7 8]]\n",
      "[[1]\n",
      " [2]]\n",
      "[[ 2  3  4  5]\n",
      " [ 7  8  9 10]]\n",
      "[[0 1 2 3]\n",
      " [3 4 5 6]]\n",
      "[[1 2]\n",
      " [3 4]]\n"
     ]
    }
   ],
   "source": [
    "a=np.arange(1,9).reshape((2,4))\n",
    "b=np.array([[1],[2]])#注意他是2维向量，[[1,2]]是两维行向量，[1，2]是单维向量\n",
    "print(a)\n",
    "print(b)\n",
    "print(a+b)\n",
    "print(a-b)\n",
    "c=np.array([[1,2],[3,4]])\n",
    "print(c)\n",
    "# print(a+c) 会报错\n"
   ]
  },
  {
   "cell_type": "markdown",
   "metadata": {},
   "source": [
    "## 数组 *乘"
   ]
  },
  {
   "cell_type": "markdown",
   "metadata": {},
   "source": [
    "数组* 与+ -一样，对应元素乘，所以需要维度一样才行，除非是行向量（/列向量），并且数量与对应矩阵的列数（/行数）相同，就挨个乘过去"
   ]
  },
  {
   "cell_type": "code",
   "execution_count": 81,
   "metadata": {},
   "outputs": [
    {
     "name": "stdout",
     "output_type": "stream",
     "text": [
      "[[1 2 3 4]\n",
      " [5 6 7 8]]\n",
      "[[1 2 3 4]\n",
      " [5 6 7 8]]\n",
      "[[1]\n",
      " [2]]\n",
      "[[ 1  4  9 16]\n",
      " [25 36 49 64]]\n",
      "[[ 1  2  3  4]\n",
      " [10 12 14 16]]\n"
     ]
    }
   ],
   "source": [
    "a=np.arange(1,9).reshape((2,4))\n",
    "b=np.arange(1,9).reshape((2,4))\n",
    "c=np.array([[1],[2]])\n",
    "print(a)\n",
    "print(b)\n",
    "print(c)\n",
    "print(a*b)\n",
    "print(a*c)"
   ]
  },
  {
   "cell_type": "markdown",
   "metadata": {},
   "source": [
    "## 数组 X乘 np.dot"
   ]
  },
  {
   "cell_type": "markdown",
   "metadata": {},
   "source": [
    "数列A.dot(数列B)就是线性代数里的X乘"
   ]
  },
  {
   "cell_type": "code",
   "execution_count": 82,
   "metadata": {},
   "outputs": [
    {
     "name": "stdout",
     "output_type": "stream",
     "text": [
      "[1 2 3]\n",
      "[[0 1]\n",
      " [2 3]\n",
      " [4 5]]\n",
      "[16 22]\n"
     ]
    }
   ],
   "source": [
    "a=np.arange(1,4)\n",
    "b=np.arange(6).reshape(3,2)\n",
    "print(a)\n",
    "print(b)\n",
    "print(a.dot(b))"
   ]
  },
  {
   "cell_type": "markdown",
   "metadata": {},
   "source": [
    "# 数列统计"
   ]
  },
  {
   "cell_type": "markdown",
   "metadata": {},
   "source": [
    "## 求和 np.sum()"
   ]
  },
  {
   "cell_type": "markdown",
   "metadata": {},
   "source": [
    "sum()可以求数列和，可以指定按某一维度来求和"
   ]
  },
  {
   "cell_type": "code",
   "execution_count": 87,
   "metadata": {},
   "outputs": [
    {
     "name": "stdout",
     "output_type": "stream",
     "text": [
      "[[1 2 3 4]\n",
      " [5 6 7 8]]\n",
      "36\n",
      "[ 6  8 10 12]\n",
      "[10 26]\n"
     ]
    }
   ],
   "source": [
    "a=np.arange(1,9).reshape((2,4))\n",
    "print(a)\n",
    "print(a.sum())\n",
    "print(a.sum(0))\n",
    "print(a.sum(1))"
   ]
  },
  {
   "cell_type": "markdown",
   "metadata": {},
   "source": [
    "## 求平均值 np.mean()"
   ]
  },
  {
   "cell_type": "markdown",
   "metadata": {},
   "source": [
    "mean()可以求数列和，可以指定按某一维度来求和"
   ]
  },
  {
   "cell_type": "code",
   "execution_count": 84,
   "metadata": {},
   "outputs": [
    {
     "name": "stdout",
     "output_type": "stream",
     "text": [
      "[[1 2 3 4]\n",
      " [5 6 7 8]]\n",
      "4.5\n",
      "[3. 4. 5. 6.]\n",
      "[2.5 6.5]\n"
     ]
    }
   ],
   "source": [
    "a=np.arange(1,9).reshape((2,4))\n",
    "print(a)\n",
    "print(a.mean())\n",
    "print(a.mean(0))\n",
    "print(a.mean(1))"
   ]
  },
  {
   "cell_type": "markdown",
   "metadata": {},
   "source": [
    "## 求最大/最小值 np.max()/min()"
   ]
  },
  {
   "cell_type": "markdown",
   "metadata": {},
   "source": [
    "max()/min()可以求最大值/最小值，可以指定按某一维度来求和"
   ]
  },
  {
   "cell_type": "code",
   "execution_count": 85,
   "metadata": {},
   "outputs": [
    {
     "name": "stdout",
     "output_type": "stream",
     "text": [
      "[[1 2 3 4]\n",
      " [5 6 7 8]]\n",
      "8\n",
      "[5 6 7 8]\n",
      "[1 5]\n"
     ]
    }
   ],
   "source": [
    "a=np.arange(1,9).reshape((2,4))\n",
    "print(a)\n",
    "print(a.max())\n",
    "print(a.max(0))\n",
    "print(a.min(1))"
   ]
  },
  {
   "cell_type": "code",
   "execution_count": null,
   "metadata": {},
   "outputs": [],
   "source": []
  }
 ],
 "metadata": {
  "kernelspec": {
   "display_name": "Python 3",
   "language": "python",
   "name": "python3"
  },
  "language_info": {
   "codemirror_mode": {
    "name": "ipython",
    "version": 3
   },
   "file_extension": ".py",
   "mimetype": "text/x-python",
   "name": "python",
   "nbconvert_exporter": "python",
   "pygments_lexer": "ipython3",
   "version": "3.7.0"
  }
 },
 "nbformat": 4,
 "nbformat_minor": 2
}
