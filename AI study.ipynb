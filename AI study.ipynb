{
 "cells": [
  {
   "cell_type": "markdown",
   "metadata": {},
   "source": [
    "# 线性回归"
   ]
  },
  {
   "cell_type": "code",
   "execution_count": 103,
   "metadata": {},
   "outputs": [
    {
     "name": "stdout",
     "output_type": "stream",
     "text": [
      "[[ 1.  1.]\n",
      " [ 2.  1.]\n",
      " [ 3.  1.]\n",
      " [ 4.  1.]\n",
      " [ 5.  1.]\n",
      " [ 6.  1.]\n",
      " [ 7.  1.]\n",
      " [ 8.  1.]\n",
      " [ 9.  1.]\n",
      " [10.  1.]]\n",
      "[[ 1.00333139]\n",
      " [ 2.00601494]\n",
      " [ 3.00239294]\n",
      " [ 4.00933241]\n",
      " [ 5.00454521]\n",
      " [ 6.00051581]\n",
      " [ 7.00214996]\n",
      " [ 8.00988969]\n",
      " [ 9.00777641]\n",
      " [10.00674523]]\n",
      "sig is\n",
      "[[1.00033303]\n",
      " [0.00343781]]\n",
      "error is \n",
      "0.009088563965459196\n",
      "直接求的sig\n",
      "[[1.0003331 ]\n",
      " [0.00343734]]\n",
      "直接求的误差\n",
      "0.009088563938743164\n"
     ]
    }
   ],
   "source": [
    "import numpy as np\n",
    "x1=np.arange(1,11)\n",
    "x0=np.ones(10)\n",
    "x=np.vstack((x1,x0)).T\n",
    "y=(np.arange(1,11)+np.random.random((1,10))*0.011).reshape(10,1)\n",
    "print(x)\n",
    "print(y)\n",
    "sig=np.array([[1],[2]])\n",
    "delta=0.001\n",
    "def error(sig,x,y):\n",
    "    a=x.dot(sig)-y\n",
    "    a=(a*a).sum()\n",
    "    return a**0.5\n",
    "def gradient(sig,x,y):\n",
    "    c=x.dot(sig)-y\n",
    "    d=x*c\n",
    "    return (d.sum(0)).reshape(2,1)\n",
    "for i in range(10000):\n",
    "    #print(gradient(sig,x,y))\n",
    "    if (np.absolute(gradient(sig,x,y))<1e-6).all():\n",
    "        break\n",
    "    else:\n",
    "        sig=sig-gradient(sig,x,y)*delta\n",
    "print('sig is')\n",
    "print(sig)\n",
    "print('error is ')\n",
    "print(error(sig,x,y))\n",
    "\n",
    "\n",
    "A=(x1*x1).sum()\n",
    "B=(x1*x0).sum()\n",
    "C=(x0*x0).sum()\n",
    "D=x1.dot(y)\n",
    "E=x0.dot(y)\n",
    "sig21=(C*D-B*E)/(A*C-B*B)\n",
    "sig22=(B*D-A*E)/(B*B-A*C)\n",
    "sig2=np.array([sig21,sig22])\n",
    "print('直接求的sig')\n",
    "print(sig2)\n",
    "print('直接求的误差')\n",
    "print(error(sig2,x,y))"
   ]
  },
  {
   "cell_type": "markdown",
   "metadata": {},
   "source": [
    "# 逻辑回归"
   ]
  },
  {
   "cell_type": "code",
   "execution_count": null,
   "metadata": {},
   "outputs": [],
   "source": [
    "from numpy import *\n",
    "def loadDataSet():\n",
    "    dataMat = []; labelMat = []  #训练数据集，标签List\n",
    "    fr = open('testSet.txt')\n",
    "    for line in fr.readlines():\n",
    "        lineArr = line.strip().split()\n",
    "        dataMat.append([1.0, float(lineArr[0]), float(lineArr[1])])  #分别是X0，X1，X2\n",
    "        labelMat.append(int(lineArr[2]))  #标签\n",
    "    return dataMat, labelMat\n",
    " def sigmoid(z):\n",
    "    return 1.0/(1+exp(-z))\n",
    " def gradAscent(dataMatIn, classLabels):\n",
    "    dataMatrix = mat(dataMatIn)             #100 * 3的矩阵\n",
    "    labelMat = mat(classLabels).transpose() #100 * 1的列向量\n",
    "    m, n = shape(dataMatrix)  #行数（样本数：100）、列数（特征数：3）\n",
    "    alpha = 0.001  #目标移动的步长\n",
    "    maxCycles = 500  #迭代次数\n",
    "    weights = ones((n,1))  #初始回归系数。3*1的列向量，每个系数初始化为1.0。weights为numpy.matrix型\n",
    "    for k in range(maxCycles):              #循环500次\n",
    "        h = sigmoid(dataMatrix*weights)     #矩阵乘法：每个样本的特征值×系数，拔得出来的值作为sigmoid函数输入\n",
    "        error = (labelMat - h)              #计算每个样本的sigmoid输出与标签的差值\n",
    "        weights = weights + alpha * dataMatrix.transpose()* error \n",
    "        return weights\n"
   ]
  }
 ],
 "metadata": {
  "kernelspec": {
   "display_name": "Python 3",
   "language": "python",
   "name": "python3"
  },
  "language_info": {
   "codemirror_mode": {
    "name": "ipython",
    "version": 3
   },
   "file_extension": ".py",
   "mimetype": "text/x-python",
   "name": "python",
   "nbconvert_exporter": "python",
   "pygments_lexer": "ipython3",
   "version": "3.7.0"
  }
 },
 "nbformat": 4,
 "nbformat_minor": 2
}
