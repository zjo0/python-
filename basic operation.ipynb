{
 "cells": [
  {
   "cell_type": "markdown",
   "metadata": {},
   "source": [
    "# 读写文件"
   ]
  },
  {
   "cell_type": "raw",
   "metadata": {},
   "source": [
    "f=file(\"test.txt\")，如果要读文件，就不要写file(\"test.txt\",\"w\")，不然会覆盖到，文件还要关闭，最好就直接 \n",
    "    \n",
    "    with open（‘test.txt’,'w'）as f:\n",
    "        f.write(xxx)  \n",
    "处理完里面的，自动关闭外面了"
   ]
  },
  {
   "cell_type": "raw",
   "metadata": {},
   "source": [
    "data=f.readlines()读到的文件是每一行作为一个字符串元素的序列，里面每一序列 ，可以用\n",
    "for i in data:\n",
    "    i.split()"
   ]
  },
  {
   "cell_type": "raw",
   "metadata": {},
   "source": [
    "读取文件时注意字符和数值类型与转换，读取保存图片格式的，就用rb和wb模式"
   ]
  },
  {
   "cell_type": "raw",
   "metadata": {},
   "source": [
    "编码形式不对的，要加上形参encoding=‘utf-8’之类的"
   ]
  },
  {
   "cell_type": "markdown",
   "metadata": {},
   "source": [
    "# 字符串"
   ]
  },
  {
   "cell_type": "raw",
   "metadata": {},
   "source": [
    "'{}babalala{}'.format(x,y)，代替其中的{}，可以命名或者顺序号0，1"
   ]
  },
  {
   "cell_type": "code",
   "execution_count": 1,
   "metadata": {},
   "outputs": [
    {
     "data": {
      "text/plain": [
       "'20% is added to price'"
      ]
     },
     "execution_count": 1,
     "metadata": {},
     "output_type": "execute_result"
    }
   ],
   "source": [
    "'{}% is added to {}'.format(20,'price')"
   ]
  },
  {
   "cell_type": "code",
   "execution_count": 18,
   "metadata": {},
   "outputs": [
    {
     "data": {
      "text/plain": [
       "'world hello world'"
      ]
     },
     "execution_count": 18,
     "metadata": {},
     "output_type": "execute_result"
    }
   ],
   "source": [
    "\"{1} {0} {1}\".format(\"hello\", \"world\")"
   ]
  },
  {
   "cell_type": "code",
   "execution_count": 19,
   "metadata": {},
   "outputs": [
    {
     "name": "stdout",
     "output_type": "stream",
     "text": [
      "网站名：god, 地址 www.god.com\n"
     ]
    }
   ],
   "source": [
    "print(\"网站名：{name}, 地址 {url}\".format(name=\"god\", url=\"www.god.com\"))"
   ]
  },
  {
   "cell_type": "code",
   "execution_count": 24,
   "metadata": {},
   "outputs": [
    {
     "name": "stdout",
     "output_type": "stream",
     "text": [
      "3.14\n",
      "+3.14\n",
      "26.00%\n",
      "9.80e+04\n"
     ]
    }
   ],
   "source": [
    "print(\"{:.2f}\".format(3.1415926))#带2位小数，后面四舍五入\n",
    "print(\"{:+.2f}\".format(3.1415926))#+表示保留正负号\n",
    "print(\"{:.2%}\".format(0.26))#百分比显示\n",
    "print(\"{:.2e}\".format(98000))#指数显示"
   ]
  },
  {
   "cell_type": "code",
   "execution_count": 27,
   "metadata": {},
   "outputs": [
    {
     "name": "stdout",
     "output_type": "stream",
     "text": [
      "********98\n",
      "98        \n",
      "----98----\n"
     ]
    }
   ],
   "source": [
    "print(\"{:*>10d}\".format(98))#右对齐显示,共10个宽度，用*来填充\n",
    "print(\"{: <10d}\".format(98))\n",
    "print(\"{:-^10d}\".format(98))"
   ]
  },
  {
   "cell_type": "markdown",
   "metadata": {},
   "source": [
    "# 函数"
   ]
  },
  {
   "cell_type": "raw",
   "metadata": {},
   "source": [
    "函数用全局变量时，别忘记global一下，如果调取其他程序的函数时，global的参数是主程序的子程序里的参数用不了，这时候可以把形参改成列表的形式，列表内容的修改是可以直接修改到本体上的"
   ]
  },
  {
   "cell_type": "markdown",
   "metadata": {},
   "source": [
    "# 转exe"
   ]
  },
  {
   "cell_type": "raw",
   "metadata": {},
   "source": [
    "在安装好pyinstaller后，就可以直接在要转的地方运行cmd，然后打pyinstaller -F -w goal.py  就行了，其中-F是将所有的子程序打包成一个文件，-w是不开启后台控制台"
   ]
  },
  {
   "cell_type": "raw",
   "metadata": {},
   "source": [
    "运行时出现fail to execute script xxx。。。时意思是出错误了。这时候最好转exe时把-w取消掉，然后录一下黑控制台报的啥错误，再来找"
   ]
  },
  {
   "cell_type": "raw",
   "metadata": {},
   "source": [
    "调用sklearn时输出no module named typedefs错误时，需要在正常转化命令后，加--hidden-import sklearn.neighbors.typedefs"
   ]
  },
  {
   "cell_type": "markdown",
   "metadata": {},
   "source": [
    "# datetime"
   ]
  },
  {
   "cell_type": "code",
   "execution_count": 5,
   "metadata": {},
   "outputs": [
    {
     "name": "stdout",
     "output_type": "stream",
     "text": [
      "2020\n",
      "4\n",
      "56\n"
     ]
    }
   ],
   "source": [
    "import datetime\n",
    "print(datetime.datetime.now().year)\n",
    "print(datetime.datetime.now().month)\n",
    "print(datetime.datetime.now().minute)"
   ]
  },
  {
   "cell_type": "code",
   "execution_count": 15,
   "metadata": {},
   "outputs": [
    {
     "name": "stdout",
     "output_type": "stream",
     "text": [
      "20-04-11 20:05:02\n",
      "2019-10-01 00:00:00\n",
      "193 days, 20:05:02.480116\n"
     ]
    }
   ],
   "source": [
    "a=datetime.datetime.now()\n",
    "print(a.strftime('%y-%m-%d %H:%M:%S'))#可以以指定格式，转化时间为字符串\n",
    "b=datetime.datetime.strptime('19-10-01','%y-%m-%d')#将特定格式的字符串转化为datetime类时间\n",
    "print(b)\n",
    "print(a-b)#datedelta类"
   ]
  },
  {
   "cell_type": "markdown",
   "metadata": {},
   "source": [
    "# calendar"
   ]
  },
  {
   "cell_type": "code",
   "execution_count": 17,
   "metadata": {},
   "outputs": [
    {
     "name": "stdout",
     "output_type": "stream",
     "text": [
      "(5, 29)\n"
     ]
    }
   ],
   "source": [
    "import calendar\n",
    "print(calendar.monthrange(2020,2))#2020年2月第一个星期一是5+1号，一共29天"
   ]
  },
  {
   "cell_type": "code",
   "execution_count": null,
   "metadata": {},
   "outputs": [],
   "source": []
  }
 ],
 "metadata": {
  "kernelspec": {
   "display_name": "Python 3",
   "language": "python",
   "name": "python3"
  },
  "language_info": {
   "codemirror_mode": {
    "name": "ipython",
    "version": 3
   },
   "file_extension": ".py",
   "mimetype": "text/x-python",
   "name": "python",
   "nbconvert_exporter": "python",
   "pygments_lexer": "ipython3",
   "version": "3.7.0"
  }
 },
 "nbformat": 4,
 "nbformat_minor": 2
}
